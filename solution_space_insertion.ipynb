{
 "cells": [
  {
   "cell_type": "code",
   "execution_count": 1,
   "id": "5d859cda",
   "metadata": {},
   "outputs": [],
   "source": [
    "import pandas as pd\n",
    "import numpy as np\n",
    "import matplotlib.pyplot as plt\n",
    "from scipy.stats import gaussian_kde\n",
    "import re\n"
   ]
  },
  {
   "cell_type": "markdown",
   "id": "073e12ed",
   "metadata": {},
   "source": [
    "### Импорт и анализ данных"
   ]
  },
  {
   "cell_type": "code",
   "execution_count": 2,
   "id": "8cfffeb3",
   "metadata": {},
   "outputs": [
    {
     "data": {
      "application/vnd.microsoft.datawrangler.viewer.v0+json": {
       "columns": [
        {
         "name": "index",
         "rawType": "int64",
         "type": "integer"
        },
        {
         "name": "id",
         "rawType": "int64",
         "type": "integer"
        },
        {
         "name": "text_no_spaces",
         "rawType": "object",
         "type": "string"
        }
       ],
       "ref": "544ef95b-3e5d-4e45-8d13-35a466d28e7f",
       "rows": [
        [
         "0",
         "0",
         "куплюайфон14про"
        ],
        [
         "1",
         "1",
         "ищудомвПодмосковье"
        ],
        [
         "2",
         "2",
         "сдаюквартирусмебельюитехникой"
        ],
        [
         "3",
         "3",
         "новыйдивандоставканедорого"
        ],
        [
         "4",
         "4",
         "отдамдаромкошку"
        ],
        [
         "5",
         "5",
         "работавМосквеудаленно"
        ],
        [
         "6",
         "6",
         "куплютелевизорPhilips"
        ],
        [
         "7",
         "7",
         "ищугрузчиковдляпереезда"
        ],
        [
         "8",
         "8",
         "ремонтквартирподключ"
        ],
        [
         "9",
         "9",
         "куплюноутбукHP"
        ],
        [
         "10",
         "10",
         "ищуквартирууметро"
        ],
        [
         "11",
         "11",
         "новаямикроволновкаSamsung"
        ],
        [
         "12",
         "12",
         "срочнопродамвелосипед"
        ],
        [
         "13",
         "13",
         "куплюгитаруFender"
        ],
        [
         "14",
         "14",
         "ищурепетиторапобиологии"
        ],
        [
         "15",
         "15",
         "сдаюгаражнадлительныйсрок"
        ],
        [
         "16",
         "16",
         "куплюдиванбу"
        ],
        [
         "17",
         "17",
         "ищумастерапоремонтухолодильников"
        ],
        [
         "18",
         "18",
         "новыйшкафдоставкасегодня"
        ],
        [
         "19",
         "19",
         "куплюXboxOne"
        ],
        [
         "20",
         "20",
         "ищуподработкуповечерам"
        ],
        [
         "21",
         "21",
         "сдамкомнатустудентке"
        ],
        [
         "22",
         "22",
         "куплюстаруюкнигу"
        ],
        [
         "23",
         "23",
         "ищусобакулабрадор"
        ],
        [
         "24",
         "24",
         "новыйтелефонXiaomi13"
        ],
        [
         "25",
         "25",
         "куплюPlaystation5диск"
        ],
        [
         "26",
         "26",
         "ищукомнатувцентрегорода"
        ],
        [
         "27",
         "27",
         "срочнонужнаняняребенку"
        ],
        [
         "28",
         "28",
         "куплюстиральнуюмашинуIndesit"
        ],
        [
         "29",
         "29",
         "ищудетскуюкроваткубу"
        ],
        [
         "30",
         "30",
         "новаякурткадоставка"
        ],
        [
         "31",
         "31",
         "куплювелосипедMerida"
        ],
        [
         "32",
         "32",
         "ищуврачаофтальмолога"
        ],
        [
         "33",
         "33",
         "сдаюквартирувцентреМосквы"
        ],
        [
         "34",
         "34",
         "куплюхолодильникSamsung"
        ],
        [
         "35",
         "35",
         "ищукошкубританскую"
        ],
        [
         "36",
         "36",
         "новыйноутбукдоставказавтра"
        ],
        [
         "37",
         "37",
         "куплюшкафбу"
        ],
        [
         "38",
         "38",
         "ищурепетиторапоистории"
        ],
        [
         "39",
         "39",
         "сдаюкомнатубезпосредников"
        ],
        [
         "40",
         "40",
         "куплютелевизорLGOLED"
        ],
        [
         "41",
         "41",
         "ищуквартирунедорогосрочно"
        ],
        [
         "42",
         "42",
         "новыйайфондоставка"
        ],
        [
         "43",
         "43",
         "куплюгитаруYamaha"
        ],
        [
         "44",
         "44",
         "ищустудиюуметро"
        ],
        [
         "45",
         "45",
         "сдамквартирумолодоженам"
        ],
        [
         "46",
         "46",
         "куплюкомпьютеригровой"
        ],
        [
         "47",
         "47",
         "ищуработуповаромвкафе"
        ],
        [
         "48",
         "48",
         "новыйдиванIkea"
        ],
        [
         "49",
         "49",
         "куплюстарыйноутбук"
        ]
       ],
       "shape": {
        "columns": 2,
        "rows": 1005
       }
      },
      "text/html": [
       "<div>\n",
       "<style scoped>\n",
       "    .dataframe tbody tr th:only-of-type {\n",
       "        vertical-align: middle;\n",
       "    }\n",
       "\n",
       "    .dataframe tbody tr th {\n",
       "        vertical-align: top;\n",
       "    }\n",
       "\n",
       "    .dataframe thead th {\n",
       "        text-align: right;\n",
       "    }\n",
       "</style>\n",
       "<table border=\"1\" class=\"dataframe\">\n",
       "  <thead>\n",
       "    <tr style=\"text-align: right;\">\n",
       "      <th></th>\n",
       "      <th>id</th>\n",
       "      <th>text_no_spaces</th>\n",
       "    </tr>\n",
       "  </thead>\n",
       "  <tbody>\n",
       "    <tr>\n",
       "      <th>0</th>\n",
       "      <td>0</td>\n",
       "      <td>куплюайфон14про</td>\n",
       "    </tr>\n",
       "    <tr>\n",
       "      <th>1</th>\n",
       "      <td>1</td>\n",
       "      <td>ищудомвПодмосковье</td>\n",
       "    </tr>\n",
       "    <tr>\n",
       "      <th>2</th>\n",
       "      <td>2</td>\n",
       "      <td>сдаюквартирусмебельюитехникой</td>\n",
       "    </tr>\n",
       "    <tr>\n",
       "      <th>3</th>\n",
       "      <td>3</td>\n",
       "      <td>новыйдивандоставканедорого</td>\n",
       "    </tr>\n",
       "    <tr>\n",
       "      <th>4</th>\n",
       "      <td>4</td>\n",
       "      <td>отдамдаромкошку</td>\n",
       "    </tr>\n",
       "    <tr>\n",
       "      <th>...</th>\n",
       "      <td>...</td>\n",
       "      <td>...</td>\n",
       "    </tr>\n",
       "    <tr>\n",
       "      <th>1000</th>\n",
       "      <td>1000</td>\n",
       "      <td>Янеусну.</td>\n",
       "    </tr>\n",
       "    <tr>\n",
       "      <th>1001</th>\n",
       "      <td>1001</td>\n",
       "      <td>Весна-яуженегреюпио.</td>\n",
       "    </tr>\n",
       "    <tr>\n",
       "      <th>1002</th>\n",
       "      <td>1002</td>\n",
       "      <td>Весна-скоровырастеттрава.</td>\n",
       "    </tr>\n",
       "    <tr>\n",
       "      <th>1003</th>\n",
       "      <td>1003</td>\n",
       "      <td>Весна-выпосмотрите,каккрасиво.</td>\n",
       "    </tr>\n",
       "    <tr>\n",
       "      <th>1004</th>\n",
       "      <td>1004</td>\n",
       "      <td>Весна-гдемояголова?</td>\n",
       "    </tr>\n",
       "  </tbody>\n",
       "</table>\n",
       "<p>1005 rows × 2 columns</p>\n",
       "</div>"
      ],
      "text/plain": [
       "        id                  text_no_spaces\n",
       "0        0                 куплюайфон14про\n",
       "1        1              ищудомвПодмосковье\n",
       "2        2   сдаюквартирусмебельюитехникой\n",
       "3        3      новыйдивандоставканедорого\n",
       "4        4                 отдамдаромкошку\n",
       "...    ...                             ...\n",
       "1000  1000                        Янеусну.\n",
       "1001  1001            Весна-яуженегреюпио.\n",
       "1002  1002       Весна-скоровырастеттрава.\n",
       "1003  1003  Весна-выпосмотрите,каккрасиво.\n",
       "1004  1004             Весна-гдемояголова?\n",
       "\n",
       "[1005 rows x 2 columns]"
      ]
     },
     "execution_count": 2,
     "metadata": {},
     "output_type": "execute_result"
    }
   ],
   "source": [
    "# cannot use pd.read_csv directly due to commas in text column \n",
    "def get_data(filename=\"filename.txt\"): \n",
    "    records = [] \n",
    "    with open(filename, \"r\") as file: \n",
    "        data_lines = file.readlines() \n",
    "        for line in data_lines: \n",
    "            parts = line.split(\",\", 1) \n",
    "            if parts[0].strip() == \"id\": \n",
    "                continue \n",
    "            line_num = int(parts[0].strip()) \n",
    "            text = parts[1].strip() if len(parts) > 1 else \"\" \n",
    "            records.append({'id': line_num, 'text_no_spaces': text}) \n",
    "        return pd.DataFrame(records) \n",
    "    \n",
    "data_df = get_data(\"filename.txt\") \n",
    "data_df"
   ]
  },
  {
   "cell_type": "code",
   "execution_count": 3,
   "id": "97a7196d",
   "metadata": {},
   "outputs": [
    {
     "data": {
      "image/png": "[encoded data removed]",
      "text/plain": [
       "<Figure size 800x500 with 1 Axes>"
      ]
     },
     "metadata": {},
     "output_type": "display_data"
    }
   ],
   "source": [
    "# text length analysis\n",
    "data_df['text_length'] = data_df['text_no_spaces'].apply(len)\n",
    "\n",
    "# kde\n",
    "length_values = data_df['text_length'].values\n",
    "kde = gaussian_kde(length_values)\n",
    "x_range = np.linspace(length_values.min(), length_values.max(), 200)\n",
    "kde_vals = kde(x_range)\n",
    "\n",
    "\n",
    "plt.figure(figsize=(8,5))\n",
    "plt.hist(length_values, bins=50, density=True, alpha=0.2, color=\"purple\", edgecolor=\"black\")\n",
    "plt.plot(x_range, kde_vals, color=\"purple\", linewidth=2, label=\"KDE\")\n",
    "plt.title(\"Distribution of text lengths\")\n",
    "plt.xlabel(\"Text length\")\n",
    "plt.ylabel(\"Density\")\n",
    "plt.legend()\n",
    "plt.show()\n"
   ]
  },
  {
   "cell_type": "code",
   "execution_count": 4,
   "id": "1514ee62",
   "metadata": {},
   "outputs": [
    {
     "name": "stdout",
     "output_type": "stream",
     "text": [
      "Number of texts with punctuation: 447\n",
      "Total number of texts: 1005\n",
      "Percentage of texts with punctuation: 0.44477611940298506\n"
     ]
    }
   ],
   "source": [
    "# analyze punctuation\n",
    "punctuation_re = re.compile(r\"[.,!?;:()\\-\\\"]\")\n",
    "\n",
    "data_df[\"has_punctuation\"] = data_df[\"text_no_spaces\"].str.contains(punctuation_re)\n",
    "num_with_punctuation = data_df[\"has_punctuation\"].sum()\n",
    "total_num_of_texts = data_df.shape[0]\n",
    "\n",
    "print(f'Number of texts with punctuation: {num_with_punctuation}')\n",
    "print(f'Total number of texts: {total_num_of_texts}')\n",
    "print(f'Percentage of texts with punctuation: {num_with_punctuation/total_num_of_texts}')"
   ]
  },
  {
   "cell_type": "code",
   "execution_count": 5,
   "id": "5b024e62",
   "metadata": {},
   "outputs": [
    {
     "data": {
      "application/vnd.microsoft.datawrangler.viewer.v0+json": {
       "columns": [
        {
         "name": "language",
         "rawType": "object",
         "type": "string"
        },
        {
         "name": "count",
         "rawType": "int64",
         "type": "integer"
        }
       ],
       "ref": "348d5e8f-9e0a-4f04-b008-daaefc79a603",
       "rows": [
        [
         "Russian",
         "995"
        ],
        [
         "English",
         "9"
        ]
       ],
       "shape": {
        "columns": 1,
        "rows": 2
       }
      },
      "text/plain": [
       "language\n",
       "Russian    995\n",
       "English      9\n",
       "Name: count, dtype: int64"
      ]
     },
     "execution_count": 5,
     "metadata": {},
     "output_type": "execute_result"
    }
   ],
   "source": [
    "# check for language\n",
    "import pandas as pd\n",
    "\n",
    "def check_language(text):\n",
    "    russian_language = sum('А' <= ch <= 'я' or ch in 'Ёё' for ch in text)\n",
    "    english_language = sum('A' <= ch <= 'Z' or 'a' <= ch <= 'z' for ch in text)\n",
    "    if russian_language > english_language:\n",
    "        return \"Russian\"\n",
    "    elif english_language > russian_language:\n",
    "        return \"English\"\n",
    "\n",
    "\n",
    "data_df['language'] = data_df['text_no_spaces'].apply(check_language)\n",
    "data_df['language'].value_counts()\n"
   ]
  },
  {
   "cell_type": "markdown",
   "id": "994640f3",
   "metadata": {},
   "source": [
    "I decided to use [wordfreq](https://pypi.org/project/wordfreq/) python library that has word frequencies"
   ]
  },
  {
   "cell_type": "code",
   "execution_count": 6,
   "id": "4c96a9e1",
   "metadata": {},
   "outputs": [
    {
     "name": "stdout",
     "output_type": "stream",
     "text": [
      "Requirement already satisfied: wordfreq in /Library/Frameworks/Python.framework/Versions/3.12/lib/python3.12/site-packages (3.1.1)\n",
      "Requirement already satisfied: ftfy>=6.1 in /Library/Frameworks/Python.framework/Versions/3.12/lib/python3.12/site-packages (from wordfreq) (6.3.1)\n",
      "Requirement already satisfied: langcodes>=3.0 in /Library/Frameworks/Python.framework/Versions/3.12/lib/python3.12/site-packages (from wordfreq) (3.5.0)\n",
      "Requirement already satisfied: locate<2.0.0,>=1.1.1 in /Library/Frameworks/Python.framework/Versions/3.12/lib/python3.12/site-packages (from wordfreq) (1.1.1)\n",
      "Requirement already satisfied: msgpack<2.0.0,>=1.0.7 in /Users/arinagoncharova/Library/Python/3.12/lib/python/site-packages (from wordfreq) (1.1.0)\n",
      "Requirement already satisfied: regex>=2023.10.3 in /Library/Frameworks/Python.framework/Versions/3.12/lib/python3.12/site-packages (from wordfreq) (2024.9.11)\n",
      "Requirement already satisfied: wcwidth in /Library/Frameworks/Python.framework/Versions/3.12/lib/python3.12/site-packages (from ftfy>=6.1->wordfreq) (0.2.13)\n",
      "Requirement already satisfied: language-data>=1.2 in /Library/Frameworks/Python.framework/Versions/3.12/lib/python3.12/site-packages (from langcodes>=3.0->wordfreq) (1.3.0)\n",
      "Requirement already satisfied: marisa-trie>=1.1.0 in /Library/Frameworks/Python.framework/Versions/3.12/lib/python3.12/site-packages (from language-data>=1.2->langcodes>=3.0->wordfreq) (1.2.1)\n",
      "Requirement already satisfied: setuptools in /Library/Frameworks/Python.framework/Versions/3.12/lib/python3.12/site-packages (from marisa-trie>=1.1.0->language-data>=1.2->langcodes>=3.0->wordfreq) (75.2.0)\n",
      "\n",
      "\u001b[1m[\u001b[0m\u001b[34;49mnotice\u001b[0m\u001b[1;39;49m]\u001b[0m\u001b[39;49m A new release of pip is available: \u001b[0m\u001b[31;49m25.1\u001b[0m\u001b[39;49m -> \u001b[0m\u001b[32;49m25.2\u001b[0m\n",
      "\u001b[1m[\u001b[0m\u001b[34;49mnotice\u001b[0m\u001b[1;39;49m]\u001b[0m\u001b[39;49m To update, run: \u001b[0m\u001b[32;49mpip3 install --upgrade pip\u001b[0m\n"
     ]
    }
   ],
   "source": [
    "!pip3 install wordfreq"
   ]
  },
  {
   "cell_type": "markdown",
   "id": "75256e4f",
   "metadata": {},
   "source": [
    "### Идея решения\n",
    "\n",
    "Проходимся по тексту и делим его на пунктуацию, цифры и слова. Для разбиения слов используем подход динамического программирования: выбираем разделение, которое дает минимальный скор. Скор слова зависит от логарифма частоты его встречаемости, а ткже включает в себя пенальти за 1 букву, за длину слова (чтобы оно не было слишком большим) и за слишком малую частоту втсречаемости. Скор слова уменьшается, если слово начинается с заглавной буквы. После такого разбиения решаем, где нужно поставить пробелы по правилам русского языка."
   ]
  },
  {
   "cell_type": "code",
   "execution_count": 7,
   "id": "7258f109",
   "metadata": {},
   "outputs": [],
   "source": [
    "from wordfreq import word_frequency\n",
    "\n",
    "minimum_freq = 1e-12\n",
    "low_freq_penalty = 20.0\n",
    "one_char_penalty = 3.0\n",
    "uppercase_bonus = 0.55\n",
    "max_word_length = 20\n",
    "length_penalty = 0.8\n",
    "\n",
    "def get_token_score(given_token):\n",
    "    lower_token = given_token.lower()\n",
    "    freq = word_frequency(lower_token, \"ru\", minimum=minimum_freq)\n",
    "    score = -np.log(freq)\n",
    "    if freq <= minimum_freq + 1e-12:\n",
    "        # addd penalty for low frequency words\n",
    "        score += low_freq_penalty + length_penalty * len(lower_token)\n",
    "    if len(lower_token) == 1:\n",
    "        score += one_char_penalty\n",
    "    if lower_token[0].isupper() and len(lower_token) > 1:\n",
    "        score -= uppercase_bonus\n",
    "    return score\n",
    "\n",
    "# dynamic programming\n",
    "def segment_letters_block(text: str):\n",
    "    n = len(text)\n",
    "    if n == 0:\n",
    "        return []\n",
    "    best_cost = [np.inf] * (n + 1)\n",
    "    backtrack = [-1] * (n + 1)\n",
    "    best_cost[0] = 0.0\n",
    "\n",
    "    for i in range(1, n + 1):\n",
    "        best_local_cost = np.inf\n",
    "        best_local_k = -1\n",
    "        start = max(0, i - max_word_length)\n",
    "        for k in range(start, i):\n",
    "            # candidate for being separate word\n",
    "            candidate = text[k:i]\n",
    "            cost = best_cost[k] + get_token_score(candidate)\n",
    "            if cost < best_local_cost:\n",
    "                best_local_cost = cost\n",
    "                best_local_k = k\n",
    "        best_cost[i] = best_local_cost\n",
    "        backtrack[i] = best_local_k\n",
    "\n",
    "    # backtrack to get words\n",
    "    words = []\n",
    "    idx = n\n",
    "    while idx > 0:\n",
    "        split = backtrack[idx]\n",
    "        if split < 0:\n",
    "            split = idx - 1 \n",
    "        words.append((text[split:idx], split, idx))\n",
    "        idx = split\n",
    "    words.reverse()\n",
    "    return words\n",
    "\n",
    "# split text into types: letter, digit or punctuation\n",
    "def split_into_parts(text: str):\n",
    "    parts = []\n",
    "    i = 0\n",
    "    text_length = len(text)\n",
    "    while i < text_length:\n",
    "        ch = text[i]\n",
    "        if punctuation_re.match(ch):\n",
    "            parts.append((ch, i, \"punctuation\"))\n",
    "            i += 1\n",
    "        elif ch.isdigit():\n",
    "            j = i + 1\n",
    "            while j < text_length and text[j].isdigit():\n",
    "                j += 1\n",
    "            parts.append((text[i:j], i, \"digit\"))\n",
    "            i = j\n",
    "        else:\n",
    "            j = i + 1\n",
    "            while j < text_length and (not punctuation_re.match(text[j])) and (not text[j].isdigit()):\n",
    "                j += 1\n",
    "            parts.append((text[i:j], i, \"letters\"))\n",
    "            i = j\n",
    "    return parts\n",
    "\n",
    "def is_space_needed(left_token, right_token):\n",
    "    if left_token[\"kind\"] == \"punctuation\":\n",
    "        if left_token[\"text\"] in {\"-\", \"–\", \"/\"}:\n",
    "            return False\n",
    "        # if left is punctuation (except \"-\", \"–\", \"/\"), space needed before word or digit\n",
    "        return right_token[\"kind\"] in {\"word\", \"digit\"}\n",
    "    # before punctuation no space is needed\n",
    "    if right_token[\"kind\"] == \"punctuation\":\n",
    "        return False\n",
    "    return True\n",
    "\n",
    "# main function to extract separate words and spaces positions\n",
    "def extract_words_and_spaces(text):\n",
    "    tokens = []\n",
    "    # split text into parts with types: letter, digit or punctuation\n",
    "    for block_text, offset, kind in split_into_parts(text):\n",
    "        # extract words with start and end indices\n",
    "        if kind == \"letters\":\n",
    "            for w, s, e in segment_letters_block(block_text):\n",
    "                tokens.append({\"text\": w, \"start\": offset + s, \"end\": offset + e, \"kind\": \"word\"})\n",
    "        # extract digits\n",
    "        elif kind == \"digit\":\n",
    "            tokens.append({\"text\": block_text, \"start\": offset, \"end\": offset + len(block_text), \"kind\": \"digit\"})\n",
    "        # extract punctuation marks\n",
    "        else:\n",
    "            tokens.append({\"text\": block_text, \"start\": offset, \"end\": offset + 1, \"kind\": \"punctuation\"})\n",
    "\n",
    "    # get the final result\n",
    "    out_chunks = []\n",
    "    space_positions = []\n",
    "    for i, tok in enumerate(tokens):\n",
    "        if i > 0:\n",
    "            prev = tokens[i - 1]\n",
    "            if is_space_needed(prev, tok):\n",
    "                # пробел вставлен ПОСЛЕ символа с индексом prev[\"end\"] - 1\n",
    "                space_positions.append(prev[\"end\"] - 1)\n",
    "                out_chunks.append(\" \")\n",
    "        out_chunks.append(tok[\"text\"])\n",
    "    return \"\".join(out_chunks), space_positions\n",
    "\n"
   ]
  },
  {
   "cell_type": "code",
   "execution_count": 8,
   "id": "2433e9e1",
   "metadata": {},
   "outputs": [
    {
     "data": {
      "application/vnd.microsoft.datawrangler.viewer.v0+json": {
       "columns": [
        {
         "name": "index",
         "rawType": "int64",
         "type": "integer"
        },
        {
         "name": "id",
         "rawType": "int64",
         "type": "integer"
        },
        {
         "name": "predicted_positions",
         "rawType": "object",
         "type": "unknown"
        },
        {
         "name": "original_text",
         "rawType": "object",
         "type": "string"
        }
       ],
       "ref": "f4755435-9415-4c4f-8202-11e46cfba2d6",
       "rows": [
        [
         "0",
         "0",
         "[4, 9, 11]",
         "куплю айфон 14 про"
        ],
        [
         "1",
         "1",
         "[2, 5, 6]",
         "ищу дом в Подмосковье"
        ],
        [
         "2",
         "2",
         "[3, 11, 12, 19, 20]",
         "сдаю квартиру с мебелью и техникой"
        ],
        [
         "3",
         "3",
         "[4, 9, 17]",
         "новый диван доставка недорого"
        ],
        [
         "4",
         "4",
         "[4, 9]",
         "отдам даром кошку"
        ],
        [
         "5",
         "5",
         "[5, 6, 12]",
         "работа в Москве удаленно"
        ],
        [
         "6",
         "6",
         "[4, 13]",
         "куплю телевизор Philips"
        ],
        [
         "7",
         "7",
         "[2, 11, 14]",
         "ищу грузчиков для переезда"
        ],
        [
         "8",
         "8",
         "[5, 12, 15]",
         "ремонт квартир под ключ"
        ],
        [
         "9",
         "9",
         "[4, 11]",
         "куплю ноутбук HP"
        ],
        [
         "10",
         "10",
         "[2, 10, 11]",
         "ищу квартиру у метро"
        ],
        [
         "11",
         "11",
         "[4, 17]",
         "новая микроволновка Samsung"
        ],
        [
         "12",
         "12",
         "[5, 11]",
         "срочно продам велосипед"
        ],
        [
         "13",
         "13",
         "[4, 10]",
         "куплю гитару Fender"
        ],
        [
         "14",
         "14",
         "[2, 12, 14]",
         "ищу репетитора по биологии"
        ],
        [
         "15",
         "15",
         "[3, 8, 10, 20]",
         "сдаю гараж на длительный срок"
        ],
        [
         "16",
         "16",
         "[4, 9]",
         "куплю диван бу"
        ],
        [
         "17",
         "17",
         "[2, 9, 11, 18]",
         "ищу мастера по ремонту холодильников"
        ],
        [
         "18",
         "18",
         "[4, 8, 16]",
         "новый шкаф доставка сегодня"
        ],
        [
         "19",
         "19",
         "[4, 8]",
         "куплю Xbox One"
        ],
        [
         "20",
         "20",
         "[2, 12, 14]",
         "ищу подработку по вечерам"
        ],
        [
         "21",
         "21",
         "[3, 10]",
         "сдам комнату студентке"
        ],
        [
         "22",
         "22",
         "[4, 10]",
         "куплю старую книгу"
        ],
        [
         "23",
         "23",
         "[2, 8]",
         "ищу собаку лабрадор"
        ],
        [
         "24",
         "24",
         "[4, 11, 17]",
         "новый телефон Xiaomi 13"
        ],
        [
         "25",
         "25",
         "[4, 15, 16]",
         "куплю Playstation 5 диск"
        ],
        [
         "26",
         "26",
         "[2, 9, 10, 16]",
         "ищу комнату в центре города"
        ],
        [
         "27",
         "27",
         "[5, 10, 14]",
         "срочно нужна няня ребенку"
        ],
        [
         "28",
         "28",
         "[4, 14, 20]",
         "куплю стиральную машину Indesit"
        ],
        [
         "29",
         "29",
         "[2, 9, 17]",
         "ищу детскую кроватку бу"
        ],
        [
         "30",
         "30",
         "[4, 10]",
         "новая куртка доставка"
        ],
        [
         "31",
         "31",
         "[4, 13]",
         "куплю велосипед Merida"
        ],
        [
         "32",
         "32",
         "[2, 7]",
         "ищу врача офтальмолога"
        ],
        [
         "33",
         "33",
         "[3, 11, 12, 18]",
         "сдаю квартиру в центре Москвы"
        ],
        [
         "34",
         "34",
         "[4, 15]",
         "куплю холодильник Samsung"
        ],
        [
         "35",
         "35",
         "[2, 7]",
         "ищу кошку британскую"
        ],
        [
         "36",
         "36",
         "[4, 11, 19]",
         "новый ноутбук доставка завтра"
        ],
        [
         "37",
         "37",
         "[4, 8]",
         "куплю шкаф бу"
        ],
        [
         "38",
         "38",
         "[2, 12, 14]",
         "ищу репетитора по истории"
        ],
        [
         "39",
         "39",
         "[3, 10, 13]",
         "сдаю комнату без посредников"
        ],
        [
         "40",
         "40",
         "[4, 13, 15]",
         "куплю телевизор LG OLED"
        ],
        [
         "41",
         "41",
         "[2, 10, 18]",
         "ищу квартиру недорого срочно"
        ],
        [
         "42",
         "42",
         "[4, 9]",
         "новый айфон доставка"
        ],
        [
         "43",
         "43",
         "[4, 10]",
         "куплю гитару Yamaha"
        ],
        [
         "44",
         "44",
         "[2, 8, 9]",
         "ищу студию у метро"
        ],
        [
         "45",
         "45",
         "[3, 11]",
         "сдам квартиру молодоженам"
        ],
        [
         "46",
         "46",
         "[4, 13]",
         "куплю компьютер игровой"
        ],
        [
         "47",
         "47",
         "[2, 8, 15, 16]",
         "ищу работу поваром в кафе"
        ],
        [
         "48",
         "48",
         "[4, 9]",
         "новый диван Ikea"
        ],
        [
         "49",
         "49",
         "[4, 10]",
         "куплю старый ноутбук"
        ]
       ],
       "shape": {
        "columns": 3,
        "rows": 1005
       }
      },
      "text/html": [
       "<div>\n",
       "<style scoped>\n",
       "    .dataframe tbody tr th:only-of-type {\n",
       "        vertical-align: middle;\n",
       "    }\n",
       "\n",
       "    .dataframe tbody tr th {\n",
       "        vertical-align: top;\n",
       "    }\n",
       "\n",
       "    .dataframe thead th {\n",
       "        text-align: right;\n",
       "    }\n",
       "</style>\n",
       "<table border=\"1\" class=\"dataframe\">\n",
       "  <thead>\n",
       "    <tr style=\"text-align: right;\">\n",
       "      <th></th>\n",
       "      <th>id</th>\n",
       "      <th>predicted_positions</th>\n",
       "      <th>original_text</th>\n",
       "    </tr>\n",
       "  </thead>\n",
       "  <tbody>\n",
       "    <tr>\n",
       "      <th>0</th>\n",
       "      <td>0</td>\n",
       "      <td>[4, 9, 11]</td>\n",
       "      <td>куплю айфон 14 про</td>\n",
       "    </tr>\n",
       "    <tr>\n",
       "      <th>1</th>\n",
       "      <td>1</td>\n",
       "      <td>[2, 5, 6]</td>\n",
       "      <td>ищу дом в Подмосковье</td>\n",
       "    </tr>\n",
       "    <tr>\n",
       "      <th>2</th>\n",
       "      <td>2</td>\n",
       "      <td>[3, 11, 12, 19, 20]</td>\n",
       "      <td>сдаю квартиру с мебелью и техникой</td>\n",
       "    </tr>\n",
       "    <tr>\n",
       "      <th>3</th>\n",
       "      <td>3</td>\n",
       "      <td>[4, 9, 17]</td>\n",
       "      <td>новый диван доставка недорого</td>\n",
       "    </tr>\n",
       "    <tr>\n",
       "      <th>4</th>\n",
       "      <td>4</td>\n",
       "      <td>[4, 9]</td>\n",
       "      <td>отдам даром кошку</td>\n",
       "    </tr>\n",
       "    <tr>\n",
       "      <th>...</th>\n",
       "      <td>...</td>\n",
       "      <td>...</td>\n",
       "      <td>...</td>\n",
       "    </tr>\n",
       "    <tr>\n",
       "      <th>1000</th>\n",
       "      <td>1000</td>\n",
       "      <td>[0, 2]</td>\n",
       "      <td>Я не усну.</td>\n",
       "    </tr>\n",
       "    <tr>\n",
       "      <th>1001</th>\n",
       "      <td>1001</td>\n",
       "      <td>[6, 9, 11, 15]</td>\n",
       "      <td>Весна-я уже не грею пио.</td>\n",
       "    </tr>\n",
       "    <tr>\n",
       "      <th>1002</th>\n",
       "      <td>1002</td>\n",
       "      <td>[10, 18]</td>\n",
       "      <td>Весна-скоро вырастет трава.</td>\n",
       "    </tr>\n",
       "    <tr>\n",
       "      <th>1003</th>\n",
       "      <td>1003</td>\n",
       "      <td>[7, 18, 21]</td>\n",
       "      <td>Весна-вы посмотрите, как красиво.</td>\n",
       "    </tr>\n",
       "    <tr>\n",
       "      <th>1004</th>\n",
       "      <td>1004</td>\n",
       "      <td>[8, 11]</td>\n",
       "      <td>Весна-где моя голова?</td>\n",
       "    </tr>\n",
       "  </tbody>\n",
       "</table>\n",
       "<p>1005 rows × 3 columns</p>\n",
       "</div>"
      ],
      "text/plain": [
       "        id  predicted_positions                       original_text\n",
       "0        0           [4, 9, 11]                  куплю айфон 14 про\n",
       "1        1            [2, 5, 6]               ищу дом в Подмосковье\n",
       "2        2  [3, 11, 12, 19, 20]  сдаю квартиру с мебелью и техникой\n",
       "3        3           [4, 9, 17]       новый диван доставка недорого\n",
       "4        4               [4, 9]                   отдам даром кошку\n",
       "...    ...                  ...                                 ...\n",
       "1000  1000               [0, 2]                          Я не усну.\n",
       "1001  1001       [6, 9, 11, 15]            Весна-я уже не грею пио.\n",
       "1002  1002             [10, 18]         Весна-скоро вырастет трава.\n",
       "1003  1003          [7, 18, 21]   Весна-вы посмотрите, как красиво.\n",
       "1004  1004              [8, 11]               Весна-где моя голова?\n",
       "\n",
       "[1005 rows x 3 columns]"
      ]
     },
     "execution_count": 8,
     "metadata": {},
     "output_type": "execute_result"
    }
   ],
   "source": [
    "result = []\n",
    "extract_words_and_spaces(data_df['text_no_spaces'][0])\n",
    "for idx, row in data_df.iterrows():\n",
    "    restored_text, space_positions = extract_words_and_spaces(row['text_no_spaces'])\n",
    "    cur_id = row['id']\n",
    "    cur_predicted_positions = space_positions\n",
    "    cur_result = {\n",
    "        'id': cur_id,\n",
    "        'predicted_positions': cur_predicted_positions,\n",
    "        'original_text': restored_text\n",
    "    }\n",
    "    result.append(cur_result)\n",
    "result_df = pd.DataFrame(result)\n",
    "result_df"
   ]
  },
  {
   "cell_type": "code",
   "execution_count": 9,
   "id": "687c852d",
   "metadata": {},
   "outputs": [],
   "source": [
    "# save result\n",
    "result_df.to_csv(\"submission.csv\", index=False)"
   ]
  }
 ],
 "metadata": {
  "kernelspec": {
   "display_name": "Python 3",
   "language": "python",
   "name": "python3"
  },
  "language_info": {
   "codemirror_mode": {
    "name": "ipython",
    "version": 3
   },
   "file_extension": ".py",
   "mimetype": "text/x-python",
   "name": "python",
   "nbconvert_exporter": "python",
   "pygments_lexer": "ipython3",
   "version": "3.12.1"
  }
 },
 "nbformat": 4,
 "nbformat_minor": 5
}
